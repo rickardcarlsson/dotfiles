{
 "cells": [
  {
   "cell_type": "code",
   "execution_count": 2,
   "metadata": {
    "tags": []
   },
   "outputs": [],
   "source": [
    "from github import Github, InputFileContent\n",
    "from keyring import get_password\n",
    "from os import environ\n",
    "from getpass import getpass\n",
    "from pathlib import Path\n",
    "import subprocess\n",
    "import re"
   ]
  },
  {
   "cell_type": "code",
   "execution_count": 8,
   "metadata": {
    "tags": []
   },
   "outputs": [
    {
     "output_type": "stream",
     "name": "stdout",
     "text": "BW_SESSION environment variable missing, log in to Bitwarden to generate new session.\nCompletedProcess(args=['bw', 'unlock', ''], returncode=-2, stdout=b'')\n"
    }
   ],
   "source": [
    "try:\n",
    "    environ['BW_SESSION']\n",
    "    # Om detta inte funkar: Leta i secrets. Om den inte funkar: generera ny.\n",
    "except KeyError:\n",
    "    print('BW_SESSION environment variable missing, log in to Bitwarden to generate new session.')\n",
    "    bw_pass = getpass(prompt='Bitwarden master password: ')\n",
    "    unlock = ['bw', 'unlock', bw_pass]\n",
    "    result = subprocess.run(unlock, stdout=subprocess.PIPE)\n",
    "\n",
    "    print(result)\n",
    "else:\n",
    "    print(environ['BW_SESSION'])"
   ]
  },
  {
   "cell_type": "code",
   "execution_count": null,
   "metadata": {
    "tags": []
   },
   "outputs": [],
   "source": [
    "# string = result.stdout.decode()\n",
    "# print(string)\n",
    "r = result.stdout\n",
    "type(r.strip())"
   ]
  },
  {
   "cell_type": "code",
   "execution_count": 3,
   "metadata": {
    "tags": []
   },
   "outputs": [
    {
     "output_type": "execute_result",
     "data": {
      "text/plain": "\"\\n.secrets = ^(export BW_SESSION=).{88}\\n\\nbw unlock = '(\\\\$ )?(export )?(BW_SESSION=)+(.{88})'\\n\""
     },
     "metadata": {},
     "execution_count": 3
    }
   ],
   "source": [
    "'''\n",
    ".secrets = ^(export BW_SESSION=).{88}\n",
    "\n",
    "bw unlock = '(\\$ )?(export )?(BW_SESSION=)+(.{88})'\n",
    "'''"
   ]
  },
  {
   "cell_type": "code",
   "execution_count": 3,
   "metadata": {
    "tags": []
   },
   "outputs": [],
   "source": [
    "home_dir = str(Path.home())\n",
    "secrets_file = home_dir + '/.secrets'\n",
    "\n",
    "def get_session_id():\n",
    "    with open(secrets_file, mode='r') as f:\n",
    "        secrets_content = (i.strip() for i in f.readlines())\n",
    "\n",
    "    pattern = re.compile('(?:^export BW_SESSION=)(.{88})')\n",
    "\n",
    "    if any((match := pattern.match(i)) for i in secrets_content):\n",
    "        return match.group(1)\n",
    "    else:\n",
    "        raise Exception('Session ID not found.')\n",
    "\n",
    "session_id = get_session_id()\n",
    "os.environ['BW_SESSION']=session_id # detta behövs antagligen inte när scriptet körs standalone?"
   ]
  },
  {
   "cell_type": "code",
   "execution_count": null,
   "metadata": {
    "tags": []
   },
   "outputs": [],
   "source": [
    "file = home + '/code/file'"
   ]
  },
  {
   "cell_type": "code",
   "execution_count": null,
   "metadata": {
    "tags": []
   },
   "outputs": [],
   "source": [
    "with open(file, mode='a') as f:\n",
    "    f.write('bw_session=hehe\\n')"
   ]
  },
  {
   "cell_type": "code",
   "execution_count": null,
   "metadata": {},
   "outputs": [],
   "source": [
    "with open(file, mode='r') as f:\n",
    "    res = [i.strip() for i in f.readlines()]\n",
    "any([str.startswith('bw_session') for str in res])\n",
    "\n",
    "# om BW_SESSION finns, sourca den. annars skriv till ny."
   ]
  },
  {
   "cell_type": "code",
   "execution_count": null,
   "metadata": {
    "tags": []
   },
   "outputs": [],
   "source": [
    "foo = \"export BW_SESSION=mckycnPdE1IQG0onhNkcSRERTRGYxIMlxgqadvz/9ZyOn+DOg56kI0DPqV3qReok7t0y86DJ5ViRiSRJPsbeCQ==\"\n",
    "# pattern = re.compile('(?:(export BW_SESSION=))(.{88})')\n",
    "pattern = re.compile('(?:(^($ )?export BW_SESSION=))(.{88})')\n",
    "res = res.match(pattern, foo)\n",
    "# print(res.group(0))\n",
    "# print(res.group(1))\n",
    "print(res.groups())"
   ]
  },
  {
   "cell_type": "code",
   "execution_count": null,
   "metadata": {},
   "outputs": [],
   "source": [
    "raise error try again\n",
    "\n",
    "{\n",
    "  \"key\": \"a\",\n",
    "  \"command\": \"notebook.cell.insertCodeCellAbove\",\n",
    "  \"when\": \"notebookEditorFocused && !inputFocus\"\n",
    "}"
   ]
  },
  {
   "cell_type": "code",
   "execution_count": null,
   "metadata": {
    "tags": []
   },
   "outputs": [],
   "source": [
    "try:\n",
    "    token = get_password('python-gist', 'gist')\n",
    "    if not token: raise Exception\n",
    "\n",
    "except ValueError:\n",
    "    print('Authentication failed. Add \"export BW_SESSION=[session id]\" to ~/.secrets file.')\n",
    "except Exception as e:\n",
    "    print(e)\n",
    "    print('Token not found.')\n",
    "\n",
    "else:\n",
    "    g = Github(token)\n",
    "    g_auth_user = g.get_user()\n",
    "    gists = g_auth_user.get_gists()"
   ]
  },
  {
   "cell_type": "code",
   "execution_count": null,
   "metadata": {
    "tags": []
   },
   "outputs": [],
   "source": [
    "hostname = os.uname().nodename\n",
    "pacman_file_name = hostname + '.pacman-list.pkg'\n",
    "pacman_file_path = '/tmp/' + pacman_file_name\n",
    "aur_file_path = '/tmp/' + aur_file_name\n",
    "aur_file_name = hostname + '.aur-list.pkg'\n",
    "\n",
    "os.system('pacman -Qqen > ' + pacman_file_path)\n",
    "os.system('pacman -Qqem > ' + aur_file_path)\n",
    "\n",
    "with open(pacman_file_path, 'r') as f:\n",
    "    pacman_file_content = f.read()\n",
    "\n",
    "with open(aur_file_path, 'r') as f:\n",
    "    aur_file_content = f.read()"
   ]
  },
  {
   "cell_type": "code",
   "execution_count": null,
   "metadata": {},
   "outputs": [],
   "source": [
    "'''\n",
    "Om token inte finns, ge error\n",
    "Om hostname-gist-id finns: uppdatera den, annars skapa ny.\n",
    "\n",
    "\"python.envFile\": \"${workspaceFolder}/.env\"\n",
    "'''"
   ]
  },
  {
   "cell_type": "code",
   "execution_count": null,
   "metadata": {
    "tags": []
   },
   "outputs": [],
   "source": [
    "def read_gist(gist_id):\n",
    "    '''    \n",
    "    gist = g.get_gist(gist_id)\n",
    "    gist_file, *_ = gist.files.values()\n",
    "    gist_content = gist_file.content\n",
    "    '''\n",
    "    pass\n",
    "\n",
    "def create_gist(filename, content, description):\n",
    "    return g_auth_user.create_gist(\n",
    "        public = False,\n",
    "        files = { filename: InputFileContent(content=content) },\n",
    "        description = description\n",
    "    )\n",
    "\n",
    "def edit_gist(gist_id, content):\n",
    "    gist = g.get_gist(gist_id)\n",
    "    gist_filename = next(iter(gist.files.values())).filename\n",
    "\n",
    "    return gist.edit(\n",
    "        files = { gist_filename: InputFileContent(content=content) }\n",
    "    )\n",
    "\n",
    "def gist_list():\n",
    "    for gist in gists:\n",
    "        public = '+' if gist.public else '-'\n",
    "        print(f'{gist.id} {public} {gist.description}')"
   ]
  },
  {
   "cell_type": "code",
   "execution_count": null,
   "metadata": {
    "tags": []
   },
   "outputs": [],
   "source": [
    "gist_list()"
   ]
  }
 ],
 "metadata": {
  "language_info": {
   "codemirror_mode": {
    "name": "ipython",
    "version": 3
   },
   "file_extension": ".py",
   "mimetype": "text/x-python",
   "name": "python",
   "nbconvert_exporter": "python",
   "pygments_lexer": "ipython3",
   "version": "3.8.3-final"
  },
  "orig_nbformat": 2,
  "kernelspec": {
   "name": "python38364bitpy383condab31dd1f9e9224467910b6d17bb8bc195",
   "display_name": "Python 3.8.3 64-bit ('py383': conda)"
  }
 },
 "nbformat": 4,
 "nbformat_minor": 2
}